{
 "cells": [
  {
   "cell_type": "code",
   "execution_count": 91,
   "metadata": {},
   "outputs": [],
   "source": [
    "# Import pandas\n",
    "import pandas as pd\n",
    "import numpy as np\n",
    "\n",
    "# Import your data into the pandas dataframe\n",
    "path = r'C:\\Users\\anjan\\OneDrive\\Desktop\\My Summer Project\\Wiki Aircraft Accidents\\Wiki_Aircraft_Accidents.xlsx'\n",
    "df = pd.read_excel(path)"
   ]
  },
  {
   "cell_type": "code",
   "execution_count": 92,
   "metadata": {},
   "outputs": [
    {
     "data": {
      "text/plain": [
       "Unnamed: 0           int64\n",
       "Tot                 object\n",
       "C                   object\n",
       "P                   object\n",
       "G                   object\n",
       "N                   object\n",
       "T\\n                 object\n",
       "Incident[nb 1]\\n    object\n",
       "Aircraft\\n          object\n",
       "Location\\n          object\n",
       "Phase\\n             object\n",
       "Airport\\n           object\n",
       "Distance\\n          object\n",
       "Date\\n              object\n",
       "dtype: object"
      ]
     },
     "execution_count": 92,
     "metadata": {},
     "output_type": "execute_result"
    }
   ],
   "source": [
    "# Check datatypes\n",
    "df.dtypes"
   ]
  },
  {
   "cell_type": "code",
   "execution_count": 93,
   "metadata": {},
   "outputs": [],
   "source": [
    "# Drop column\n",
    "df.drop('Unnamed: 0', axis = 1, inplace = True)"
   ]
  },
  {
   "cell_type": "code",
   "execution_count": 94,
   "metadata": {},
   "outputs": [],
   "source": [
    "# Rename columns to remove '\\n'\n",
    "df = df.rename(columns = {'Tot': 'Total', \n",
    "                          'C': 'Crew', \n",
    "                          'P': 'Passengers', \n",
    "                          'G' :'Ground', \n",
    "                          'N' : 'Note',\n",
    "                          'T\\n' : 'Type',\n",
    "                          'Incident[nb 1]\\n':'Incident', \n",
    "                          'Aircraft\\n' : 'Aircraft', \n",
    "                          'Location\\n':'Location', \n",
    "                          'Phase\\n': 'Phase', \n",
    "                          'Airport\\n':'Airport', \n",
    "                          'Distance\\n':'Distance (in km)', \n",
    "                          'Date\\n':'Date'})"
   ]
  },
  {
   "cell_type": "code",
   "execution_count": 96,
   "metadata": {},
   "outputs": [],
   "source": [
    "# Changes to column 'Total'\n",
    "df['Total'] = df['Total'].str.replace('\\D+', '')\n",
    "\n",
    "# Changes to column 'Crew'\n",
    "df['Crew'] = df['Crew'].str.replace('\\[nb \\d+\\]','')\n",
    "\n",
    "# Changes to column 'Passengers'\n",
    "df['Passengers'] = df['Passengers'].str.replace('\\[nb \\d+\\]','')\n",
    "\n",
    "# Changes to column 'Ground'\n",
    "df['Ground'] = df['Ground'].str.replace('\\D+', '')\n",
    "\n",
    "# Changes to column 'Note'\n",
    "df['x'] = df['Note'].str.replace('†','0')\n",
    "df['x'] = df['x'].str.replace('1\\*', '1')\n",
    "df['Note'] = df['x'].str.replace('\\n', '')\n",
    "df.drop('x', axis = 1, inplace = True)\n",
    "df['Note'] = df['Note'].str.replace('\\[nb \\d+\\]','')\n",
    "\n",
    "# Changes to column 'Type'\n",
    "df['Type'] = df['Type'].str.replace('\\n','')\n",
    "\n",
    "# Changes to column 'Phase'\n",
    "df['Phase'] = df['Phase'].str.replace('\\[\\d\\]','')\n",
    "\n",
    "# Changes to column 'Airport'\n",
    "df['Airport']=df['Airport'].str.replace('\\n', '')\n",
    "df['Airport'] = df['Airport'].str.replace('\\[nb \\d+\\]','')\n",
    "\n",
    "# Changes to column 'Distance'\n",
    "df['Distance (in km)'] = df['Distance (in km)'].str.replace('\\n', '')\n",
    "df['Distance (in km)'] = df['Distance (in km)'].str.replace('\\<','')\n",
    "df['Distance (in km)'] = df['Distance (in km)'].str.replace('c.','')\n",
    "df['Distance (in km)'] = df['Distance (in km)'].str.replace('km','')\n",
    "df['Distance (in km)'] = df['Distance (in km)'].str.replace('unknown','')\n",
    "df['Distance (in km)'] = df['Distance (in km)'].str.strip()\n",
    "\n",
    "# Changes to column 'Date'\n",
    "df['Date'] = df['Date'].str.replace('\\n', '')\n",
    "df['Date']=df['Date'].str.replace('?', '.')"
   ]
  },
  {
   "cell_type": "code",
   "execution_count": 97,
   "metadata": {},
   "outputs": [],
   "source": [
    "# Change the datatypes of columns\n",
    "df['Total'] = pd.to_numeric(df['Total'])\n",
    "df['Crew'] = pd.to_numeric(df['Crew'])\n",
    "df['Passengers'] = pd.to_numeric(df['Passengers'])\n",
    "df['Ground'] = pd.to_numeric(df['Ground'])\n",
    "df['Note'] = pd.to_numeric(df['Note'])\n",
    "df['Distance (in km)'] = pd.to_numeric(df['Distance (in km)'])\n",
    "df['Date'] = pd.to_datetime(df['Date'])"
   ]
  },
  {
   "cell_type": "code",
   "execution_count": 98,
   "metadata": {},
   "outputs": [],
   "source": [
    "df.replace('', np.nan, inplace=True)"
   ]
  },
  {
   "cell_type": "code",
   "execution_count": 99,
   "metadata": {},
   "outputs": [
    {
     "data": {
      "text/plain": [
       "Total                        int64\n",
       "Crew                       float64\n",
       "Passengers                 float64\n",
       "Ground                       int64\n",
       "Note                       float64\n",
       "Type                        object\n",
       "Incident                    object\n",
       "Aircraft                    object\n",
       "Location                    object\n",
       "Phase                       object\n",
       "Airport                     object\n",
       "Distance (in km)           float64\n",
       "Date                datetime64[ns]\n",
       "dtype: object"
      ]
     },
     "execution_count": 99,
     "metadata": {},
     "output_type": "execute_result"
    }
   ],
   "source": [
    "# Check the datatypes\n",
    "df.dtypes"
   ]
  },
  {
   "cell_type": "code",
   "execution_count": 100,
   "metadata": {},
   "outputs": [],
   "source": [
    "# Export cleaned data to Excel\n",
    "to_path = r'C:\\Users\\anjan\\OneDrive\\Desktop\\My Summer Project\\Wiki Aircraft Accidents\\DW_Aircraft Accidents_v3.xlsx'\n",
    "df.to_excel(to_path)"
   ]
  },
  {
   "cell_type": "code",
   "execution_count": null,
   "metadata": {},
   "outputs": [],
   "source": []
  }
 ],
 "metadata": {
  "kernelspec": {
   "display_name": "Python 3",
   "language": "python",
   "name": "python3"
  },
  "language_info": {
   "codemirror_mode": {
    "name": "ipython",
    "version": 3
   },
   "file_extension": ".py",
   "mimetype": "text/x-python",
   "name": "python",
   "nbconvert_exporter": "python",
   "pygments_lexer": "ipython3",
   "version": "3.7.3"
  }
 },
 "nbformat": 4,
 "nbformat_minor": 2
}
